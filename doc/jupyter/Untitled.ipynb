{
 "cells": [
  {
   "cell_type": "markdown",
   "id": "537d58b3-6fc7-4264-99b9-6d8bae57df6a",
   "metadata": {},
   "source": [
    "# **Flight Tickets Data Scrapper**"
   ]
  },
  {
   "cell_type": "code",
   "execution_count": null,
   "id": "67171cd4-f6df-48ee-baec-feb52563012f",
   "metadata": {},
   "outputs": [],
   "source": []
  }
 ],
 "metadata": {
  "kernelspec": {
   "display_name": "Python 3 (ipykernel)",
   "language": "python",
   "name": "python3"
  },
  "language_info": {
   "codemirror_mode": {
    "name": "ipython",
    "version": 3
   },
   "file_extension": ".py",
   "mimetype": "text/x-python",
   "name": "python",
   "nbconvert_exporter": "python",
   "pygments_lexer": "ipython3",
   "version": "3.10.0"
  }
 },
 "nbformat": 4,
 "nbformat_minor": 5
}
